{
 "metadata": {
  "language_info": {
   "codemirror_mode": {
    "name": "ipython",
    "version": 3
   },
   "file_extension": ".py",
   "mimetype": "text/x-python",
   "name": "python",
   "nbconvert_exporter": "python",
   "pygments_lexer": "ipython3",
   "version": "3.6.5-final"
  },
  "orig_nbformat": 2,
  "kernelspec": {
   "name": "python3",
   "display_name": "Python 3"
  }
 },
 "nbformat": 4,
 "nbformat_minor": 2,
 "cells": [
  {
   "cell_type": "code",
   "execution_count": 6,
   "metadata": {
    "tags": []
   },
   "outputs": [
    {
     "output_type": "stream",
     "name": "stdout",
     "text": "1\n6\n6\n[1, 2, 3]\n[1, 2, 3, 4, 5]\n[6]\n[6, 5, 4, 3, 2, 1]\n"
    }
   ],
   "source": [
    "# list data structure\n",
    "l = [1,2,3,4,5,6]\n",
    "#indexing\n",
    "print(l[0])\n",
    "print(l[len(l)-1])\n",
    "print(l[-1])\n",
    "#slicing It uses a colon to indicate the start point (inclusive) and end point (non-inclusive) of the sub-array. \n",
    "print(l[0:3])\n",
    "print(l[0:-1])\n",
    "print(l[-1:])\n",
    "# thrid index is step size\n",
    "print(l[::-1])"
   ]
  },
  {
   "cell_type": "code",
   "execution_count": null,
   "metadata": {},
   "outputs": [],
   "source": []
  }
 ]
}