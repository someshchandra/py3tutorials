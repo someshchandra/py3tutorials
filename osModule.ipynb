{
 "metadata": {
  "language_info": {
   "codemirror_mode": {
    "name": "ipython",
    "version": 3
   },
   "file_extension": ".py",
   "mimetype": "text/x-python",
   "name": "python",
   "nbconvert_exporter": "python",
   "pygments_lexer": "ipython3",
   "version": "3.6.5-final"
  },
  "orig_nbformat": 2,
  "kernelspec": {
   "name": "python3",
   "display_name": "Python 3"
  }
 },
 "nbformat": 4,
 "nbformat_minor": 2,
 "cells": [
  {
   "cell_type": "code",
   "execution_count": 5,
   "metadata": {
    "tags": []
   },
   "outputs": [
    {
     "output_type": "stream",
     "name": "stdout",
     "text": "c:\\Users\\SOMES\\OneDrive\\Documents\\GitHub\\py3tutorials\\.git\\COMMIT_EDITMSG\nc:\\Users\\SOMES\\OneDrive\\Documents\\GitHub\\py3tutorials\\.git\\config\nc:\\Users\\SOMES\\OneDrive\\Documents\\GitHub\\py3tutorials\\.git\\description\nc:\\Users\\SOMES\\OneDrive\\Documents\\GitHub\\py3tutorials\\.git\\HEAD\nc:\\Users\\SOMES\\OneDrive\\Documents\\GitHub\\py3tutorials\\.git\\hooks\\applypatch-msg.sample\nc:\\Users\\SOMES\\OneDrive\\Documents\\GitHub\\py3tutorials\\.git\\hooks\\commit-msg.sample\nc:\\Users\\SOMES\\OneDrive\\Documents\\GitHub\\py3tutorials\\.git\\hooks\\post-update.sample\nc:\\Users\\SOMES\\OneDrive\\Documents\\GitHub\\py3tutorials\\.git\\hooks\\pre-applypatch.sample\nc:\\Users\\SOMES\\OneDrive\\Documents\\GitHub\\py3tutorials\\.git\\hooks\\pre-commit.sample\nc:\\Users\\SOMES\\OneDrive\\Documents\\GitHub\\py3tutorials\\.git\\hooks\\pre-push.sample\nc:\\Users\\SOMES\\OneDrive\\Documents\\GitHub\\py3tutorials\\.git\\hooks\\pre-rebase.sample\nc:\\Users\\SOMES\\OneDrive\\Documents\\GitHub\\py3tutorials\\.git\\hooks\\prepare-commit-msg.sample\nc:\\Users\\SOMES\\OneDrive\\Documents\\GitHub\\py3tutorials\\.git\\hooks\\update.sample\nc:\\Users\\SOMES\\OneDrive\\Documents\\GitHub\\py3tutorials\\.git\\index\nc:\\Users\\SOMES\\OneDrive\\Documents\\GitHub\\py3tutorials\\.git\\info\\exclude\nc:\\Users\\SOMES\\OneDrive\\Documents\\GitHub\\py3tutorials\\.git\\logs\\HEAD\nc:\\Users\\SOMES\\OneDrive\\Documents\\GitHub\\py3tutorials\\.git\\logs\\refs\\heads\\master\nc:\\Users\\SOMES\\OneDrive\\Documents\\GitHub\\py3tutorials\\.git\\logs\\refs\\remotes\\origin\\master\nc:\\Users\\SOMES\\OneDrive\\Documents\\GitHub\\py3tutorials\\.git\\objects\\0c\\4792215c512ba6c7acbe5f83dfa55cf94d4280\nc:\\Users\\SOMES\\OneDrive\\Documents\\GitHub\\py3tutorials\\.git\\objects\\3b\\664107303df336bab8010caad42ddaed24550e\nc:\\Users\\SOMES\\OneDrive\\Documents\\GitHub\\py3tutorials\\.git\\objects\\56\\23d8b10c6a9467aed84e150b9ac896f26c386a\nc:\\Users\\SOMES\\OneDrive\\Documents\\GitHub\\py3tutorials\\.git\\objects\\59\\f273eaebd94cbed34a998ff4ee904a05409ae8\nc:\\Users\\SOMES\\OneDrive\\Documents\\GitHub\\py3tutorials\\.git\\objects\\5b\\ef76c173bc66943b18f6f1ba0ee0cd4ec86464\nc:\\Users\\SOMES\\OneDrive\\Documents\\GitHub\\py3tutorials\\.git\\objects\\65\\c6c46571d0870fad39ced3ccbbdfcadb658a11\nc:\\Users\\SOMES\\OneDrive\\Documents\\GitHub\\py3tutorials\\.git\\objects\\6a\\ac819c2748cb5d143aa86e3ea45610453d6041\nc:\\Users\\SOMES\\OneDrive\\Documents\\GitHub\\py3tutorials\\.git\\objects\\98\\24ccffe850e7196c1855cf658cbf45313c8f84\nc:\\Users\\SOMES\\OneDrive\\Documents\\GitHub\\py3tutorials\\.git\\objects\\a1\\848ea286aa18d1bed40b177f4864e797814f13\nc:\\Users\\SOMES\\OneDrive\\Documents\\GitHub\\py3tutorials\\.git\\objects\\a1\\9c5c7b69afd0814b0dd06ca2ff363dec3fffc5\nc:\\Users\\SOMES\\OneDrive\\Documents\\GitHub\\py3tutorials\\.git\\objects\\ce\\51ff5f1cb3b1a6d05afff15abc49d5d2f52c64\nc:\\Users\\SOMES\\OneDrive\\Documents\\GitHub\\py3tutorials\\.git\\objects\\d6\\8e0d76ce5c7d0e20e7883a48893a9696d3a041\nc:\\Users\\SOMES\\OneDrive\\Documents\\GitHub\\py3tutorials\\.git\\refs\\heads\\master\nc:\\Users\\SOMES\\OneDrive\\Documents\\GitHub\\py3tutorials\\.git\\refs\\remotes\\origin\\master\nc:\\Users\\SOMES\\OneDrive\\Documents\\GitHub\\py3tutorials\\.vscode\\settings.json\nc:\\Users\\SOMES\\OneDrive\\Documents\\GitHub\\py3tutorials\\kaggle_housing\\input\\test.csv\nc:\\Users\\SOMES\\OneDrive\\Documents\\GitHub\\py3tutorials\\kaggle_housing\\input\\train.csv\nc:\\Users\\SOMES\\OneDrive\\Documents\\GitHub\\py3tutorials\\kaggle_housing\\kagglemicrocoursehousing.py\nc:\\Users\\SOMES\\OneDrive\\Documents\\GitHub\\py3tutorials\\osModule.ipynb\nc:\\Users\\SOMES\\OneDrive\\Documents\\GitHub\\py3tutorials\\osModule.py\nc:\\Users\\SOMES\\OneDrive\\Documents\\GitHub\\py3tutorials\\outputformatting.py\n"
    }
   ],
   "source": [
    "import os\n",
    "\n",
    "result = []\n",
    "\n",
    "def recurse(input):\n",
    "    paths = os.listdir(input)\n",
    "    for path in paths:\n",
    "        formatted = input + os.sep + path\n",
    "        if not os.path.isdir(formatted):\n",
    "            result.append(formatted)\n",
    "        else:\n",
    "            recurse(formatted)\n",
    "\n",
    "recurse(os.getcwd())\n",
    "print(\"\\n\".join(result))"
   ]
  },
  {
   "cell_type": "code",
   "execution_count": null,
   "metadata": {},
   "outputs": [],
   "source": []
  }
 ]
}